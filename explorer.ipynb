{
 "cells": [
  {
   "cell_type": "code",
   "execution_count": 11,
   "id": "09a50690-b13f-44f2-b6da-f19872e40aba",
   "metadata": {},
   "outputs": [],
   "source": [
    "%matplotlib widget\n",
    "\n",
    "import numpy as np\n",
    "import matplotlib.pyplot as plt\n",
    "import string\n",
    "import random"
   ]
  },
  {
   "cell_type": "code",
   "execution_count": 46,
   "id": "a00db29b-a635-49e2-88b7-d8662232c42a",
   "metadata": {},
   "outputs": [],
   "source": [
    "fig.clear()"
   ]
  },
  {
   "cell_type": "code",
   "execution_count": 51,
   "id": "483f6a7d-bd86-493b-a779-0045cd01d668",
   "metadata": {},
   "outputs": [
    {
     "data": {
      "application/vnd.jupyter.widget-view+json": {
       "model_id": "c7c006e816f34d6cb29fb64998caf149",
       "version_major": 2,
       "version_minor": 0
      },
      "text/plain": [
       "Canvas(toolbar=Toolbar(toolitems=[('Home', 'Reset original view', 'home', 'home'), ('Back', 'Back to previous …"
      ]
     },
     "metadata": {},
     "output_type": "display_data"
    }
   ],
   "source": [
    "default_symbols = list(string.ascii_uppercase[:5])\n",
    "def lstr(x):\n",
    "    return ''.join(x)\n",
    "\n",
    "class Sequence:\n",
    "    def __init__(self, terms=None, rule=None):\n",
    "        if not terms:\n",
    "            self.terms = []\n",
    "        self.terms = terms\n",
    "        self.rule = rule\n",
    "        \n",
    "    def __iadd__(self, a):\n",
    "        self.terms.append(a)\n",
    "\n",
    "class Rule:\n",
    "    def __init__(self, conditions=[], symbols=default_symbols):\n",
    "        self.conditions = conditions\n",
    "        self.symbols = symbols\n",
    "    \n",
    "    def sample(self, length=10):\n",
    "        seq = []\n",
    "        seq += random.choice(self.symbols)\n",
    "        for i in range(length-1):\n",
    "            possible = list(filter(lambda s: all([c(lstr(seq)+s) for c in self.conditions]), self.symbols))\n",
    "            seq += random.choice(possible)\n",
    "        return seq\n",
    "\n",
    "fig, ax = plt.subplots()\n",
    "R = Rule(\n",
    "    [lambda p: p[-1]!=p[-2]]\n",
    ")\n",
    "test = R.sample()\n",
    "test = np.expand_dims([R.symbols.index(c) for c in test], 0)\n",
    "im = ax.imshow(test, cmap='inferno')\n",
    "\n",
    "indices = list(range(1, 11))\n",
    "ax.set_xticks(np.arange(len(indices)))\n",
    "# ax.set_yticks(np.arange(len()))\n",
    "ax.set_xticklabels(indices)\n",
    "# ax.set_yticklabels()\n",
    "\n",
    "plt.setp(ax.get_xticklabels(), rotation=0, ha=\"right\",\n",
    "         rotation_mode=\"anchor\")\n",
    "\n",
    "for i in range(len([0])):\n",
    "    for j in range(len(farmers)):\n",
    "        text = ax.text(j, i, test[i, j], ha=\"center\", va=\"center\", color=\"w\")\n",
    "\n",
    "ax.set_title('')\n",
    "# fig.tight_layout()\n",
    "plt.show()"
   ]
  },
  {
   "cell_type": "code",
   "execution_count": null,
   "id": "2c1e3437-4cbd-4dd2-b1fc-2ba77f316787",
   "metadata": {},
   "outputs": [],
   "source": []
  }
 ],
 "metadata": {
  "kernelspec": {
   "display_name": "Python 3",
   "language": "python",
   "name": "python3"
  },
  "language_info": {
   "codemirror_mode": {
    "name": "ipython",
    "version": 3
   },
   "file_extension": ".py",
   "mimetype": "text/x-python",
   "name": "python",
   "nbconvert_exporter": "python",
   "pygments_lexer": "ipython3",
   "version": "3.9.4"
  }
 },
 "nbformat": 4,
 "nbformat_minor": 5
}
