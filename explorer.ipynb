{
 "cells": [
  {
   "cell_type": "code",
   "execution_count": 11,
   "id": "09a50690-b13f-44f2-b6da-f19872e40aba",
   "metadata": {},
   "outputs": [],
   "source": [
    "%matplotlib widget\n",
    "\n",
    "import numpy as np\n",
    "import matplotlib.pyplot as plt\n",
    "import string\n",
    "import random"
   ]
  },
  {
   "cell_type": "code",
   "execution_count": 60,
   "id": "a00db29b-a635-49e2-88b7-d8662232c42a",
   "metadata": {},
   "outputs": [],
   "source": [
    "fig.clear()"
   ]
  },
  {
   "cell_type": "code",
   "execution_count": 64,
   "id": "483f6a7d-bd86-493b-a779-0045cd01d668",
   "metadata": {},
   "outputs": [
    {
     "data": {
      "application/vnd.jupyter.widget-view+json": {
       "model_id": "23d14ddfde814e77b22e59720af7c309",
       "version_major": 2,
       "version_minor": 0
      },
      "text/plain": [
       "Canvas(toolbar=Toolbar(toolitems=[('Home', 'Reset original view', 'home', 'home'), ('Back', 'Back to previous …"
      ]
     },
     "metadata": {},
     "output_type": "display_data"
    }
   ],
   "source": [
    "default_symbols = list(string.ascii_uppercase[:5])\n",
    "def lstr(x):\n",
    "    return ''.join(x)\n",
    "\n",
    "class Sequence:\n",
    "    def __init__(self, terms=None, rule=None):\n",
    "        if terms is None:\n",
    "            terms = []\n",
    "        self.terms = terms\n",
    "        self.rule = rule\n",
    "    \n",
    "    def display(self):\n",
    "        vals = np.expand_dims([R.symbols.index(c) for c in self], 0)\n",
    "        im = ax.imshow(vals, cmap='inferno')\n",
    "\n",
    "        indices = list(range(1, 11))\n",
    "        ax.set_xticks(np.arange(len(indices)))\n",
    "        # ax.set_yticks(np.arange(len()))\n",
    "        ax.set_xticklabels(indices)\n",
    "        # ax.set_yticklabels()\n",
    "\n",
    "        plt.setp(ax.get_xticklabels(), rotation=0, ha=\"right\",\n",
    "                 rotation_mode=\"anchor\")\n",
    "\n",
    "        for i in range(len([0])):\n",
    "            for j in range(len(farmers)):\n",
    "                text = ax.text(j, i, vals[i, j], ha=\"center\", va=\"center\", color=\"w\")\n",
    "\n",
    "        ax.set_title('')\n",
    "        # fig.tight_layout()\n",
    "        plt.show()\n",
    "    \n",
    "    def __iadd__(self, a):\n",
    "        self.terms.append(a)\n",
    "        return self\n",
    "        \n",
    "    def __str__(self):\n",
    "        return ''.join(self.terms)\n",
    "\n",
    "    def __iter__(self):\n",
    "        return iter(self.terms)\n",
    "    \n",
    "    def __getitem__(self, i):\n",
    "        return self.terms[i]\n",
    "    \n",
    "class Rule:\n",
    "    def __init__(self, conditions=[], symbols=default_symbols):\n",
    "        self.conditions = conditions\n",
    "        self.symbols = symbols\n",
    "    \n",
    "    def sample(self, length=10):\n",
    "        seq = Sequence()\n",
    "        seq += random.choice(self.symbols)\n",
    "        for i in range(length-1):\n",
    "            possible = list(filter(lambda s: all([c(str(seq)+s) for c in self.conditions]), self.symbols))\n",
    "            seq += random.choice(possible)\n",
    "        return seq\n",
    "\n",
    "\n",
    "R = Rule(\n",
    "    [lambda p: p[-1]!=p[-2]]\n",
    ")\n",
    "fig, ax = plt.subplots()\n",
    "test = R.sample()\n",
    "test.display()"
   ]
  },
  {
   "cell_type": "code",
   "execution_count": null,
   "id": "2c1e3437-4cbd-4dd2-b1fc-2ba77f316787",
   "metadata": {},
   "outputs": [],
   "source": []
  }
 ],
 "metadata": {
  "kernelspec": {
   "display_name": "Python 3",
   "language": "python",
   "name": "python3"
  },
  "language_info": {
   "codemirror_mode": {
    "name": "ipython",
    "version": 3
   },
   "file_extension": ".py",
   "mimetype": "text/x-python",
   "name": "python",
   "nbconvert_exporter": "python",
   "pygments_lexer": "ipython3",
   "version": "3.9.4"
  }
 },
 "nbformat": 4,
 "nbformat_minor": 5
}
