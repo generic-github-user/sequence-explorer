{
 "cells": [
  {
   "cell_type": "code",
   "execution_count": 197,
   "id": "09a50690-b13f-44f2-b6da-f19872e40aba",
   "metadata": {},
   "outputs": [],
   "source": [
    "%matplotlib widget\n",
    "\n",
    "import numpy as np\n",
    "import matplotlib.pyplot as plt\n",
    "import string\n",
    "import random\n",
    "import math"
   ]
  },
  {
   "cell_type": "code",
   "execution_count": 69,
   "id": "a00db29b-a635-49e2-88b7-d8662232c42a",
   "metadata": {},
   "outputs": [],
   "source": [
    "fig.clear()\n",
    "plt.close(fig)"
   ]
  },
  {
   "cell_type": "code",
   "execution_count": 281,
   "id": "483f6a7d-bd86-493b-a779-0045cd01d668",
   "metadata": {},
   "outputs": [
    {
     "name": "stdout",
     "output_type": "stream",
     "text": [
      "HADEHIEEAAGHJGGFJDFIBBJBDFCCHIADEIECHAAHEGGGJFFJIB\n",
      "IDEEDCIAIDAAEJCBFHGGJHCJGHBBIFFEDCDAIIDEEACAFJBHJG\n",
      "HCBIJHDBHGACAAEICDGFDEFGEBJJHIFCJIBBHDHAGAAECCDGFE\n",
      "DBCBCFBDDAFIAFHAJGGJCHGIIEHJDEBCECFBBDAFAIFAJHGDGH\n",
      "DIABEFGCEHIFIHJEADBHBJFCGGCJDDABEAGIEFCFIIHHAJDBBJ\n"
     ]
    },
    {
     "data": {
      "application/vnd.jupyter.widget-view+json": {
       "model_id": "7e3afba8048540758f85a62dd66f3576",
       "version_major": 2,
       "version_minor": 0
      },
      "text/plain": [
       "Canvas(toolbar=Toolbar(toolitems=[('Home', 'Reset original view', 'home', 'home'), ('Back', 'Back to previous …"
      ]
     },
     "metadata": {},
     "output_type": "display_data"
    }
   ],
   "source": [
    "plt.close('all')\n",
    "\n",
    "default_symbols = list(string.ascii_uppercase[:10])\n",
    "def lstr(x):\n",
    "    return ''.join(x)\n",
    "\n",
    "class Sequence:\n",
    "    def __init__(self, terms=None, rule=None):\n",
    "        if terms is None:\n",
    "            terms = []\n",
    "        self.terms = terms\n",
    "        self.rule = rule\n",
    "    \n",
    "    def display(self, a=None):\n",
    "        vals = np.expand_dims([self.rule.symbols.index(c) for c in self], 0)\n",
    "        if vals.size > 30:\n",
    "            if a:\n",
    "                w = a\n",
    "            else:\n",
    "                w = math.floor(vals.size ** (1/2))\n",
    "            q = vals.size / w\n",
    "            q = math.ceil(q)\n",
    "            vals = np.pad(vals, ((0, 0), (0, q*w-vals.size),), mode='constant')\n",
    "            vals = vals.reshape([q, w])\n",
    "        fig, ax = plt.subplots()\n",
    "        im = ax.imshow(vals, cmap='cool')\n",
    "\n",
    "#         num_terms = len(self)\n",
    "        num_terms = vals.shape[-1]\n",
    "        indices = list(range(1, num_terms+1))\n",
    "        ax.set_xticks(np.arange(num_terms))\n",
    "#         ax.set_xticks([])\n",
    "        # ax.set_yticks(np.arange(len()))\n",
    "        ax.set_xticklabels(indices)\n",
    "        # ax.set_yticklabels()\n",
    "\n",
    "        plt.setp(ax.get_xticklabels(), rotation=0, ha=\"right\",\n",
    "                 rotation_mode=\"anchor\")\n",
    "\n",
    "        if vals.size <= 30:\n",
    "            col = 'black'\n",
    "            for i in range(len([0])):\n",
    "                for j in range(num_terms):\n",
    "                    box = dict(boxstyle=\"round\", ec=col, fc=col, alpha=0.5)\n",
    "                    text = ax.text(j, i, self.terms[j], ha=\"center\", va=\"center\", color=\"w\", bbox=box)\n",
    "\n",
    "        ax.set_title('')\n",
    "        # fig.tight_layout()\n",
    "#         plt.axis('off')\n",
    "        plt.gca().axes.get_yaxis().set_visible(False)\n",
    "        ax.set_frame_on(False)\n",
    "        plt.show()\n",
    "    \n",
    "    def print(self):\n",
    "        print(self)\n",
    "    \n",
    "    def __iadd__(self, a):\n",
    "        self.terms.append(a)\n",
    "        return self\n",
    "        \n",
    "    def __str__(self):\n",
    "        return ''.join(map(str, self.terms))\n",
    "\n",
    "    def __iter__(self):\n",
    "        return iter(self.terms)\n",
    "    \n",
    "    def __getitem__(self, i):\n",
    "        return self.terms[i]\n",
    "    \n",
    "    def __len__(self):\n",
    "        return len(self.terms)\n",
    "\n",
    "class SequenceSet:\n",
    "    def __init__(self, members):\n",
    "        self.members = members\n",
    "    \n",
    "    def display(self, *args, **kwargs):\n",
    "        self.members[0].display(*args, **kwargs)\n",
    "    \n",
    "    def print(self):\n",
    "        print(self)\n",
    "        \n",
    "    def __str__(self):\n",
    "        return '\\n'.join(map(str, self.members))\n",
    "    \n",
    "    def __iadd__(self, a):\n",
    "        self.members.append(a)\n",
    "        return self\n",
    "    \n",
    "class Rule:\n",
    "    def __init__(self, conditions=[], symbols=default_symbols):\n",
    "        self.conditions = conditions\n",
    "        self.symbols = symbols\n",
    "    \n",
    "    def sample(self, length=10, n=1):\n",
    "        seq_set = SequenceSet([])\n",
    "        for m in range(n):\n",
    "            seq = Sequence(rule=self)\n",
    "            seq += random.choice(self.symbols)\n",
    "            for i in range(length-1):\n",
    "                possible = list(filter(lambda s: all([c(str(seq)+s) for c in self.conditions]), self.symbols))\n",
    "                if possible:\n",
    "                    seq += random.choice(possible)\n",
    "            seq_set += seq\n",
    "        return seq_set\n",
    "\n",
    "# Sequence of non-consecutive identical/repeated symbols\n",
    "R = Rule([lambda p: p[-1]!=p[-2]])\n",
    "# R.sample(5).display()\n",
    "\n",
    "# Sequence of symbols that cannot occur more than twice in a span of 10 tokens\n",
    "R = Rule([lambda p: p[-28:-1].count(p[-1])<=2])\n",
    "R.sample(50, 5).print()\n",
    "R.sample(1000).display(29)"
   ]
  },
  {
   "cell_type": "code",
   "execution_count": null,
   "id": "2c1e3437-4cbd-4dd2-b1fc-2ba77f316787",
   "metadata": {},
   "outputs": [],
   "source": []
  }
 ],
 "metadata": {
  "kernelspec": {
   "display_name": "Python 3",
   "language": "python",
   "name": "python3"
  },
  "language_info": {
   "codemirror_mode": {
    "name": "ipython",
    "version": 3
   },
   "file_extension": ".py",
   "mimetype": "text/x-python",
   "name": "python",
   "nbconvert_exporter": "python",
   "pygments_lexer": "ipython3",
   "version": "3.9.4"
  }
 },
 "nbformat": 4,
 "nbformat_minor": 5
}
